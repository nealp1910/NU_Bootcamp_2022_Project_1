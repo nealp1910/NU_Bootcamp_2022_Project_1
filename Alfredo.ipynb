{
 "cells": [
  {
   "cell_type": "code",
   "execution_count": null,
   "id": "80c86e32",
   "metadata": {},
   "outputs": [],
   "source": [
    "%matplotlib notebook\n",
    "import pandas as pd\n",
    "import numpy as np\n",
    "import matplotlib.pyplot as plt\n",
    "import scipy.stats as st\n",
    "import requests \n",
    "import time \n",
    "df=pd.read_csv(\"Levels_Fyi_Salary_Data.csv\", delimiter=\",\")\n",
    "df.info()\n",
    "df.head(60)"
   ]
  },
  {
   "cell_type": "code",
   "execution_count": null,
   "id": "90958421",
   "metadata": {},
   "outputs": [],
   "source": [
    "# take the location column and seperate state and city and index them, take min/max of base salary/totalyearlycompensation "
   ]
  },
  {
   "cell_type": "code",
   "execution_count": null,
   "id": "347b37c2",
   "metadata": {},
   "outputs": [],
   "source": [
    "#take base salary/totalyearlycompensation "
   ]
  },
  {
   "cell_type": "code",
   "execution_count": null,
   "id": "0c5809f2",
   "metadata": {},
   "outputs": [],
   "source": [
    "#group by company and min/ max yearly compensation"
   ]
  },
  {
   "cell_type": "code",
   "execution_count": null,
   "id": "5cc37793",
   "metadata": {},
   "outputs": [],
   "source": [
    "#Education compared to salary/totalyearlycompensation "
   ]
  },
  {
   "cell_type": "code",
   "execution_count": null,
   "id": "5511e00c",
   "metadata": {},
   "outputs": [],
   "source": [
    "#years of experience/ years at company and comparison to yearly compensation\n",
    "df_exp = pd.DataFrame(df,columns=[\"yearsofexperience\",\"yearsatcompany\",\"basesalary\",\"stockgrantvalue\",\"bonus\",\"totalyearlycompensation\"])\n",
    "print(df_exp[\"totalyearlycompensation\"].min())\n",
    "print(df_exp[\"totalyearlycompensation\"].max())\n",
    "print(df_exp[\"yearsatcompany\"].min())\n",
    "print(df_exp[\"yearsatcompany\"].max())\n",
    "yearlycomp=df_exp[\"totalyearlycompensation\"]\n",
    "industryyears=df_exp[\"yearsofexperience\"]\n",
    "companyyears=df_exp[\"yearsatcompany\"]\n",
    "df_exp.head()\n",
    "plt.scatter(companyyears,yearlycomp,marker=\"o\", facecolors=\"red\", edgecolors=\"black\")\n",
    "plt.scatter(industryyears,yearlycomp,marker=\"o\", facecolors=\"red\", edgecolors=\"black\")\n",
    "#Find and remove the outliers of both years and pay (Maybe top 100?)\n",
    "#Check if other columns are usable and, if so, remove the zeroes from them"
   ]
  },
  {
   "cell_type": "code",
   "execution_count": null,
   "id": "8cec9a35",
   "metadata": {},
   "outputs": [],
   "source": [
    "plt.scatter(industryyears,yearlycomp,marker=\"o\", facecolors=\"red\", edgecolors=\"black\")"
   ]
  },
  {
   "cell_type": "code",
   "execution_count": null,
   "id": "a1d48845",
   "metadata": {},
   "outputs": [],
   "source": [
    "#male/ female convert to usable data and compare to yearly compensation"
   ]
  }
 ],
 "metadata": {
  "kernelspec": {
   "display_name": "Python 3 (ipykernel)",
   "language": "python",
   "name": "python3"
  },
  "language_info": {
   "codemirror_mode": {
    "name": "ipython",
    "version": 3
   },
   "file_extension": ".py",
   "mimetype": "text/x-python",
   "name": "python",
   "nbconvert_exporter": "python",
   "pygments_lexer": "ipython3",
   "version": "3.9.7"
  }
 },
 "nbformat": 4,
 "nbformat_minor": 5
}
