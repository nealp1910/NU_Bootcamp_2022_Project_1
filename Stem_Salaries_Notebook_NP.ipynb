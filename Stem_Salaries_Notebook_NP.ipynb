{
 "cells": [
  {
   "cell_type": "code",
   "execution_count": null,
   "id": "80c86e32",
   "metadata": {},
   "outputs": [],
   "source": [
    "# Importing Libraries \n",
    "import pandas as pd\n",
    "import numpy as np\n",
    "import matplotlib.pyplot as plt\n",
    "import scipy.stats as st\n",
    "import requests \n",
    "import time \n",
    "\n",
    "# Reading CSV File\n",
    "df=pd.read_csv(\"Levels_Fyi_Salary_Data.csv\", delimiter=\",\")\n",
    "df.head()"
   ]
  },
  {
   "cell_type": "code",
   "execution_count": null,
   "id": "4a90797f",
   "metadata": {
    "scrolled": true
   },
   "outputs": [],
   "source": [
    "df.info()"
   ]
  },
  {
   "cell_type": "code",
   "execution_count": null,
   "id": "325a9e54",
   "metadata": {
    "scrolled": false
   },
   "outputs": [],
   "source": [
    "df.columns"
   ]
  },
  {
   "cell_type": "code",
   "execution_count": null,
   "id": "90958421",
   "metadata": {},
   "outputs": [],
   "source": [
    "# take the location column and seperate state and city and index them, take min/max of base salary/totalyearlycompensation "
   ]
  },
  {
   "cell_type": "code",
   "execution_count": null,
   "id": "347b37c2",
   "metadata": {},
   "outputs": [],
   "source": [
    "# take base salary/totalyearlycompensation "
   ]
  },
  {
   "cell_type": "code",
   "execution_count": null,
   "id": "0c5809f2",
   "metadata": {},
   "outputs": [],
   "source": [
    "# group by company and min/ max yearly compensation"
   ]
  },
  {
   "cell_type": "code",
   "execution_count": null,
   "id": "5cc37793",
   "metadata": {},
   "outputs": [],
   "source": [
    "# Education compared to salary/totalyearlycompensation "
   ]
  },
  {
   "cell_type": "code",
   "execution_count": null,
   "id": "5511e00c",
   "metadata": {},
   "outputs": [],
   "source": [
    "# years of experience/ years at company and comparison to yearly compensation"
   ]
  },
  {
   "cell_type": "code",
   "execution_count": null,
   "id": "a1d48845",
   "metadata": {},
   "outputs": [],
   "source": [
    "# male/ female convert to usable data and compare to yearly compensation\n",
    "df['gender'].unique()"
   ]
  },
  {
   "cell_type": "code",
   "execution_count": null,
   "id": "04015d2e",
   "metadata": {
    "scrolled": true
   },
   "outputs": [],
   "source": [
    "# Filtered DataFrame to only include Gender , Job Title, Base Salary, & Yearly Compensation. (4 Columns)\n",
    "gender_df = df[[\"gender\", \"title\", \"basesalary\", \"totalyearlycompensation\"]]\n",
    "#gender_df\n",
    "\n",
    "# Remove NaN values from Gender and remove base salaries that are 0\n",
    "gender_df = gender_df.dropna()\n",
    "filt_gender_df = gender_df.loc[gender_df[\"basesalary\"] > 0, [\"gender\", \"title\", \"basesalary\", \"totalyearlycompensation\"]]\n",
    "#filt_gender_df.sort_values(by=['gender'])\n",
    "\n",
    "# Remove 'Title: Senior Software Engineer'\n",
    "filt_gender_df = filt_gender_df.drop(index=11010)\n",
    "filt_gender_df.reset_index(drop  = True)"
   ]
  },
  {
   "cell_type": "code",
   "execution_count": null,
   "id": "59d05f94",
   "metadata": {},
   "outputs": [],
   "source": [
    "# Pie Chart of Genders in STEMS\n",
    "gender = ['Male', 'Female', 'Other']\n",
    "count = filt_gender_df['gender'].value_counts()\n",
    "colors = ['coral', 'plum', 'silver']\n",
    "explode = (0, 0.05, 0.1)\n",
    "\n",
    "plt.title(\"STEM Genders\")\n",
    "plt.pie(count, explode=explode, labels = gender, colors = colors, autopct = \"%1.1f%%\", shadow = True)\n",
    "plt.axis(\"equal\")\n",
    "plt.show\n",
    "count"
   ]
  }
 ],
 "metadata": {
  "kernelspec": {
   "display_name": "Python [conda env:PythonData38] *",
   "language": "python",
   "name": "conda-env-PythonData38-py"
  },
  "language_info": {
   "codemirror_mode": {
    "name": "ipython",
    "version": 3
   },
   "file_extension": ".py",
   "mimetype": "text/x-python",
   "name": "python",
   "nbconvert_exporter": "python",
   "pygments_lexer": "ipython3",
   "version": "3.8.12"
  }
 },
 "nbformat": 4,
 "nbformat_minor": 5
}
