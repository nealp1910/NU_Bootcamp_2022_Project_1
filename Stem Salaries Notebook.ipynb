{
 "cells": [
  {
   "cell_type": "code",
   "execution_count": null,
   "id": "80c86e32",
   "metadata": {
    "scrolled": false
   },
   "outputs": [],
   "source": [
    "# Importing Libraries \n",
    "import pandas as pd\n",
    "import numpy as np\n",
    "import matplotlib.pyplot as plt\n",
    "import scipy.stats as st\n",
    "import requests \n",
    "import time \n",
    "import seaborn as sns\n",
    "import warnings\n",
    "warnings.filterwarnings(\"ignore\")\n",
    "\n",
    "# Loading CSV file\n",
    "df=pd.read_csv(\"Levels_Fyi_Salary_Data.csv\", delimiter=\",\")\n",
    "df.info()\n",
    "df.head(60)"
   ]
  },
  {
   "cell_type": "code",
   "execution_count": null,
   "id": "90958421",
   "metadata": {},
   "outputs": [],
   "source": [
    "#Connor\n",
    "# take the location column and seperate state and city and index them, take min/max of base salary/totalyearlycompensation \n",
    "\n",
    "#removing salaries of \"0\"\n",
    "df_cleaned = df[df['basesalary'] != 0]\n",
    "df_cleaned.head(20)\n",
    "df_cleaned['basesalary'].min()\n",
    "df_cleaned['basesalary'].max()\n",
    "df_cleaned['totalyearlycompensation'].min()\n",
    "df_cleaned['totalyearlycompensation'].max()\n",
    "\n",
    "#created a cleaner DF that created invidual lists of each company and their average salary\n",
    "#note: some companies are still repeated more than once (IE: \"7-Eleven\" & \"7-eleven\",etc)\n",
    "\n",
    "#company_data = \"../Levels_Fyi_Salary_Data.csv\"\n",
    "\n",
    "company_name = df_cleaned.set_index('company').groupby(['company'])\n",
    "                                \n",
    "average_salary = company_name['basesalary'].mean()\n",
    "\n",
    "average_total_salary = company_name['totalyearlycompensation'].mean()\n",
    "                                       \n",
    "company_summary_df = pd.DataFrame({\n",
    "    \"Company Name\": company_name,\n",
    "    \"Average Total Salary\": average_total_salary,\n",
    "    \"Average Salary\": average_salary,\n",
    "   \n",
    "})\n",
    "\n",
    "company_summary_df = company_summary_df[['Average Salary', 'Average Total Salary']]\n",
    "\n",
    "\n",
    "#cleaning the DF\n",
    "company_summary_df.style.format({\n",
    "    \"Average Salary\": \"${:,.2f}\",\n",
    "    \"Average Total Salary\": \"${:,.2f}\",\n",
    "})\n",
    "\n",
    "company_summary_df['Average Salary'].min()\n",
    "print (f\"The lowest average salary is )\n",
    "company_summary_df['Average Salary'].max()"
   ]
  },
  {
   "cell_type": "code",
   "execution_count": null,
   "id": "2b17237b",
   "metadata": {},
   "outputs": [],
   "source": []
  },
  {
   "cell_type": "code",
   "execution_count": null,
   "id": "0a59e6e2",
   "metadata": {},
   "outputs": [],
   "source": []
  },
  {
   "cell_type": "code",
   "execution_count": null,
   "id": "cd4cf14a",
   "metadata": {},
   "outputs": [],
   "source": []
  },
  {
   "cell_type": "code",
   "execution_count": null,
   "id": "b5aff4b4",
   "metadata": {},
   "outputs": [],
   "source": []
  },
  {
   "cell_type": "code",
   "execution_count": null,
   "id": "b252055e",
   "metadata": {},
   "outputs": [],
   "source": []
  },
  {
   "cell_type": "code",
   "execution_count": null,
   "id": "347b37c2",
   "metadata": {},
   "outputs": [],
   "source": [
    "#take base salary/totalyearlycompensation "
   ]
  },
  {
   "cell_type": "code",
   "execution_count": null,
   "id": "017632d2",
   "metadata": {},
   "outputs": [],
   "source": []
  },
  {
   "cell_type": "code",
   "execution_count": null,
   "id": "d4c65eaa",
   "metadata": {},
   "outputs": [],
   "source": []
  },
  {
   "cell_type": "code",
   "execution_count": null,
   "id": "0570a998",
   "metadata": {},
   "outputs": [],
   "source": []
  },
  {
   "cell_type": "code",
   "execution_count": null,
   "id": "57e18042",
   "metadata": {},
   "outputs": [],
   "source": []
  },
  {
   "cell_type": "code",
   "execution_count": null,
   "id": "f13924f3",
   "metadata": {},
   "outputs": [],
   "source": []
  },
  {
   "cell_type": "code",
   "execution_count": null,
   "id": "0c5809f2",
   "metadata": {},
   "outputs": [],
   "source": [
    "#group by company and min/ max yearly compensation"
   ]
  },
  {
   "cell_type": "code",
   "execution_count": null,
   "id": "08e5df02",
   "metadata": {},
   "outputs": [],
   "source": []
  },
  {
   "cell_type": "code",
   "execution_count": null,
   "id": "fd47dcbb",
   "metadata": {},
   "outputs": [],
   "source": []
  },
  {
   "cell_type": "code",
   "execution_count": null,
   "id": "4a22fd0f",
   "metadata": {},
   "outputs": [],
   "source": []
  },
  {
   "cell_type": "code",
   "execution_count": null,
   "id": "34ad0bf8",
   "metadata": {},
   "outputs": [],
   "source": []
  },
  {
   "cell_type": "code",
   "execution_count": null,
   "id": "ac42b0e3",
   "metadata": {},
   "outputs": [],
   "source": []
  },
  {
   "cell_type": "code",
   "execution_count": null,
   "id": "5cc37793",
   "metadata": {},
   "outputs": [],
   "source": [
    "#Education compared to salary/totalyearlycompensation "
   ]
  },
  {
   "cell_type": "code",
   "execution_count": null,
   "id": "c7e33dab",
   "metadata": {},
   "outputs": [],
   "source": []
  },
  {
   "cell_type": "code",
   "execution_count": null,
   "id": "27701d26",
   "metadata": {},
   "outputs": [],
   "source": []
  },
  {
   "cell_type": "code",
   "execution_count": null,
   "id": "8400c09d",
   "metadata": {},
   "outputs": [],
   "source": []
  },
  {
   "cell_type": "code",
   "execution_count": null,
   "id": "449b48d2",
   "metadata": {},
   "outputs": [],
   "source": []
  },
  {
   "cell_type": "code",
   "execution_count": null,
   "id": "80663587",
   "metadata": {},
   "outputs": [],
   "source": []
  },
  {
   "cell_type": "code",
   "execution_count": null,
   "id": "5511e00c",
   "metadata": {},
   "outputs": [],
   "source": [
    "#Alfredo\n",
    "#years of experience/ years at company and comparison to yearly compensation\n",
    "df_exp = pd.DataFrame(df,columns=[\"yearsofexperience\",\"yearsatcompany\",\"basesalary\",\"stockgrantvalue\",\"bonus\",\"totalyearlycompensation\"])\n",
    "print(df_exp[\"totalyearlycompensation\"].min())\n",
    "print(df_exp[\"totalyearlycompensation\"].max())\n",
    "print(df_exp[\"yearsatcompany\"].min())\n",
    "print(df_exp[\"yearsatcompany\"].max())\n",
    "yearlycomp=df_exp[\"totalyearlycompensation\"]\n",
    "industryyears=df_exp[\"yearsofexperience\"]\n",
    "companyyears=df_exp[\"yearsatcompany\"]\n",
    "df_exp.head()\n",
    "plt.scatter(companyyears,yearlycomp,marker=\"o\", facecolors=\"red\", edgecolors=\"black\")\n",
    "plt.scatter(industryyears,yearlycomp,marker=\"o\", facecolors=\"red\", edgecolors=\"black\")\n",
    "#Find and remove the outliers of both years and pay (Maybe top 100?)\n",
    "#Check if other columns are usable and, if so, remove the zeroes from them"
   ]
  },
  {
   "cell_type": "code",
   "execution_count": null,
   "id": "09cc4962",
   "metadata": {},
   "outputs": [],
   "source": [
    "plt.scatter(industryyears,yearlycomp,marker=\"o\", facecolors=\"red\", edgecolors=\"black\")"
   ]
  },
  {
   "cell_type": "code",
   "execution_count": null,
   "id": "23a4e5fe",
   "metadata": {},
   "outputs": [],
   "source": []
  },
  {
   "cell_type": "code",
   "execution_count": null,
   "id": "c4a84abf",
   "metadata": {},
   "outputs": [],
   "source": []
  },
  {
   "cell_type": "code",
   "execution_count": null,
   "id": "c907f867",
   "metadata": {},
   "outputs": [],
   "source": []
  },
  {
   "cell_type": "code",
   "execution_count": null,
   "id": "4548e048",
   "metadata": {},
   "outputs": [],
   "source": []
  },
  {
   "cell_type": "code",
   "execution_count": null,
   "id": "a1d48845",
   "metadata": {},
   "outputs": [],
   "source": [
    "#Neel\n",
    "#male/ female convert to usable data and compare to yearly compensation\n",
    "df.columns\n",
    "df['gender'].unique()\n",
    "df['title'].unique()"
   ]
  },
  {
   "cell_type": "code",
   "execution_count": null,
   "id": "e3c21d13",
   "metadata": {},
   "outputs": [],
   "source": [
    "# Filtered DataFrame to only include Gender , Job Title, Base Salary, & Yearly Compensation. (4 Columns)\n",
    "gender_df = df[[\"gender\", \"title\", \"company\", \"basesalary\", \"totalyearlycompensation\"]]\n",
    "#gender_df\n",
    "\n",
    "# Remove NaN values from Gender and remove base salaries that are 0\n",
    "gender_df = gender_df.dropna()\n",
    "filt_gender_df = gender_df.loc[gender_df[\"basesalary\"] > 0, [\"gender\", \"title\", \"company\", \"basesalary\", \"totalyearlycompensation\"]]\n",
    "#filt_gender_df.sort_values(by=['gender'])\n",
    "\n",
    "# Remove 'Title: Senior Software Engineer'\n",
    "filt_gender_df = filt_gender_df.drop(index=11010)\n",
    "filt_gender_df.reset_index(drop  = True)"
   ]
  },
  {
   "cell_type": "code",
   "execution_count": null,
   "id": "8cfb5f17",
   "metadata": {},
   "outputs": [],
   "source": [
    "# Pie Chart of Genders in STEMS\n",
    "gender = ['Male', 'Female', 'Other']\n",
    "count = filt_gender_df['gender'].value_counts()\n",
    "colors = ['coral', 'plum', 'silver']\n",
    "explode = (0, 0.05, 0.1)\n",
    "\n",
    "plt.title(\"Gender in STEM\")\n",
    "plt.pie(count, explode=explode, labels = gender, colors = colors, autopct = \"%1.1f%%\", shadow = True)\n",
    "plt.axis(\"equal\")\n",
    "plt.show\n",
    "plt.savefig(\"output_images/Genders_In_Stem.png\")"
   ]
  },
  {
   "cell_type": "code",
   "execution_count": null,
   "id": "cee7de21",
   "metadata": {},
   "outputs": [],
   "source": [
    "x_axis = gender\n",
    "y_axis = count\n",
    "plt.bar(x_axis, y_axis, color = 'blue')\n",
    "plt.title(\"Gender in STEM\")\n",
    "plt.show\n",
    "plt.savefig(\"output_images/Genders_In_Stem_BarGraph\")"
   ]
  },
  {
   "cell_type": "code",
   "execution_count": null,
   "id": "ee1dbceb",
   "metadata": {},
   "outputs": [],
   "source": [
    "title = df[\"title\"].value_counts()[0:15].reset_index()\n",
    "title.columns = [\"Job\", \"Count\"]\n",
    "title"
   ]
  },
  {
   "cell_type": "code",
   "execution_count": null,
   "id": "ad7e33b5",
   "metadata": {},
   "outputs": [],
   "source": [
    "sns.catplot(x=\"Count\", y=\"Job\", kind=\"bar\", data=title, height=6, aspect=3)\n",
    "plt.grid(True)\n",
    "plt.title(\"Jobs in STEM\")\n",
    "plt.show\n",
    "plt.savefig(\"output_images/Jobs_in_STEM\")"
   ]
  },
  {
   "cell_type": "code",
   "execution_count": null,
   "id": "0896fc5c",
   "metadata": {
    "scrolled": false
   },
   "outputs": [],
   "source": [
    "sns.barplot(x = filt_gender_df.gender, y = filt_gender_df.basesalary);\n",
    "plt.title(\"Gender vs Base Salary\")\n",
    "plt.xlabel(\"Gender\")\n",
    "plt.ylabel(\"Base Salary\")\n",
    "plt.show\n",
    "plt.savefig(\"output_images/Gender_vs_BaseSalary\");"
   ]
  },
  {
   "cell_type": "code",
   "execution_count": null,
   "id": "d8f620d9",
   "metadata": {},
   "outputs": [],
   "source": [
    "sns.barplot(x = filt_gender_df.gender, y = filt_gender_df.totalyearlycompensation);\n",
    "plt.title(\"Gender vs Total Yearly Compensation\")\n",
    "plt.xlabel(\"Gender\")\n",
    "plt.ylabel(\"Total Yearly Compensation\")\n",
    "plt.show\n",
    "plt.savefig(\"output_images/Gender_vs_TotalYearlyCompensation\");"
   ]
  }
 ],
 "metadata": {
  "kernelspec": {
   "display_name": "Python [conda env:PythonData38] *",
   "language": "python",
   "name": "conda-env-PythonData38-py"
  },
  "language_info": {
   "codemirror_mode": {
    "name": "ipython",
    "version": 3
   },
   "file_extension": ".py",
   "mimetype": "text/x-python",
   "name": "python",
   "nbconvert_exporter": "python",
   "pygments_lexer": "ipython3",
   "version": "3.8.12"
  }
 },
 "nbformat": 4,
 "nbformat_minor": 5
}
