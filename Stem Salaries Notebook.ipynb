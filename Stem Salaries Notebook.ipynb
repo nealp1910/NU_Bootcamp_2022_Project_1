{
 "cells": [
  {
   "cell_type": "code",
   "execution_count": null,
   "id": "80c86e32",
   "metadata": {},
   "outputs": [],
   "source": [
    "#%matplotlib notebook\n",
    "import pandas as pd\n",
    "import numpy as np\n",
    "import matplotlib.pyplot as plt\n",
    "import scipy.stats as st\n",
    "import requests \n",
    "import time \n",
    "from scipy.stats import linregress\n",
    "df=pd.read_csv(\"Levels_Fyi_Salary_Data.csv\", delimiter=\",\")\n",
    "df.info()\n",
    "df.head(60)"
   ]
  },
  {
   "cell_type": "code",
   "execution_count": null,
   "id": "90958421",
   "metadata": {},
   "outputs": [],
   "source": [
    "#Connor\n",
    "\n",
    "#Creating a new data frame that removes counts that had \"0\" for base salary\n",
    "#Other focuses may want to analyze this DF further to see if other results should be removed that have 0, but for this portion\n",
    "#of the study, we just want to make sure our data is reflecting active salaries to find the top hiring companies and more\n",
    "df_cleaned = df[df['basesalary'] != 0]\n",
    "df_cleaned.head(10)"
   ]
  },
  {
   "cell_type": "code",
   "execution_count": null,
   "id": "2b17237b",
   "metadata": {},
   "outputs": [],
   "source": [
    "#Find the top 10 hiring companies by counting the amount of repeating companies that show up in the data (essentially a for loop)\n",
    "#Throw this data into a new cleaned DF to work with\n",
    "top_companies = df_cleaned[\"company\"].value_counts()[0:10].reset_index()\n",
    "top_companies.columns = [\"company\", \"Count\"]\n",
    "top_companies"
   ]
  },
  {
   "cell_type": "code",
   "execution_count": null,
   "id": "0a59e6e2",
   "metadata": {},
   "outputs": [],
   "source": [
    "#Using Seaborn as a means of showing this data in a clean and easy bar graph\n",
    "import seaborn as sns\n",
    "plt.figure(figsize=(10,10))\n",
    "#adjusting the company name displays rotations\n",
    "plt.xticks(rotation=60)\n",
    "#setting the x label (company name)\n",
    "plt.xlabel(\"Company Name\")\n",
    "#setting the title\n",
    "plt.title(\"Top 10 Hiring Companies\")\n",
    "#plotting the barplot within seaborn sns using our x and y labels set, along with the top companies data frame from above\n",
    "sns.barplot(x='company',y='Count',data=top_companies)\n",
    "plt.savefig(\"output_images/top ten hiring companies\")\n",
    "plt.show()"
   ]
  },
  {
   "cell_type": "code",
   "execution_count": null,
   "id": "cd4cf14a",
   "metadata": {},
   "outputs": [],
   "source": [
    "#Find the top 10 job roles hired using the same approach as finding the top 10 companies\n",
    "#Throwing into a data frame for a clear, easy visual to work off of\n",
    "top_jobs = df_cleaned['title'].value_counts()[0:10].reset_index()\n",
    "top_jobs.columns = [\"Job\", \"Count\"]\n",
    "top_jobs"
   ]
  },
  {
   "cell_type": "code",
   "execution_count": null,
   "id": "b5aff4b4",
   "metadata": {},
   "outputs": [],
   "source": [
    "#Once again using Seaborn as a means of showing this data in a clean bar graph\n",
    "import seaborn as sns\n",
    "plt.figure(figsize=(8,12))\n",
    "plt.xticks(rotation=60)\n",
    "plt.xlabel(\"Jobs\")\n",
    "plt.title(\"Top 10 Job Roles\")\n",
    "sns.barplot(x='Job',y='Count',data=top_jobs)\n",
    "plt.savefig(\"output_images/top ten job roles\")\n",
    "plt.show()"
   ]
  },
  {
   "cell_type": "code",
   "execution_count": null,
   "id": "b252055e",
   "metadata": {},
   "outputs": [],
   "source": [
    "#Find the top 10 hiring locations \n",
    "#Throwing into a data frame for a clear, easy visual to work off of\n",
    "top_locations = df_cleaned['location'].value_counts()[0:10].reset_index()\n",
    "top_locations.columns = [\"Location\", \"Count\"]\n",
    "top_locations"
   ]
  },
  {
   "cell_type": "code",
   "execution_count": null,
   "id": "347b37c2",
   "metadata": {},
   "outputs": [],
   "source": [
    "#Using Seaborn once more as a means of showing this data data in a clean bar graph\n",
    "import seaborn as sns\n",
    "import seaborn as sns\n",
    "plt.figure(figsize=(8,12))\n",
    "plt.xticks(rotation=75)\n",
    "plt.xlabel(\"Locations\")\n",
    "plt.title(\"Top 10 Job Locations\")\n",
    "sns.barplot(x='Location',y='Count',data=top_locations)\n",
    "plt.savefig(\"output_images/top ten job locations\")\n",
    "plt.show()"
   ]
  },
  {
   "cell_type": "code",
   "execution_count": null,
   "id": "017632d2",
   "metadata": {
    "scrolled": true
   },
   "outputs": [],
   "source": [
    "data_sci = df[df.title.str.contains('Data Scientist')]\n",
    "biz_analyst = df[df.title.str.contains('Business Analyst')]\n",
    "data_sci_biz_analyst = pd.concat([data_sci, biz_analyst], axis=0)\n",
    "data_sci_biz_analyst.head()"
   ]
  },
  {
   "cell_type": "code",
   "execution_count": null,
   "id": "d4c65eaa",
   "metadata": {},
   "outputs": [],
   "source": [
    "#Find the amount of business analysts and data scientists titles added year over year\n",
    "data_sci_biz_analyst['timestamp'] = pd.to_datetime(data_sci_biz_analyst.timestamp)\n",
    "year = data_sci_biz_analyst.timestamp.dt.year\n",
    "year_new_counts = year.value_counts()\n",
    "year_new_counts\n",
    "#The data is showing us that there is much growing demands for both titles from 2018 to 2021"
   ]
  },
  {
   "cell_type": "code",
   "execution_count": null,
   "id": "0570a998",
   "metadata": {},
   "outputs": [],
   "source": []
  },
  {
   "cell_type": "code",
   "execution_count": null,
   "id": "57e18042",
   "metadata": {},
   "outputs": [],
   "source": []
  },
  {
   "cell_type": "code",
   "execution_count": null,
   "id": "f13924f3",
   "metadata": {},
   "outputs": [],
   "source": []
  },
  {
   "cell_type": "code",
   "execution_count": null,
   "id": "0c5809f2",
   "metadata": {},
   "outputs": [],
   "source": [
    "#group by company and min/ max yearly compensation"
   ]
  },
  {
   "cell_type": "code",
   "execution_count": null,
   "id": "08e5df02",
   "metadata": {},
   "outputs": [],
   "source": []
  },
  {
   "cell_type": "code",
   "execution_count": null,
   "id": "fd47dcbb",
   "metadata": {},
   "outputs": [],
   "source": []
  },
  {
   "cell_type": "code",
   "execution_count": null,
   "id": "4a22fd0f",
   "metadata": {},
   "outputs": [],
   "source": []
  },
  {
   "cell_type": "code",
   "execution_count": null,
   "id": "34ad0bf8",
   "metadata": {},
   "outputs": [],
   "source": []
  },
  {
   "cell_type": "code",
   "execution_count": null,
   "id": "ac42b0e3",
   "metadata": {},
   "outputs": [],
   "source": []
  },
  {
   "cell_type": "code",
   "execution_count": null,
   "id": "5cc37793",
   "metadata": {},
   "outputs": [],
   "source": [
    "#Education compared to salary/totalyearlycompensation "
   ]
  },
  {
   "cell_type": "code",
   "execution_count": null,
   "id": "c7e33dab",
   "metadata": {},
   "outputs": [],
   "source": []
  },
  {
   "cell_type": "code",
   "execution_count": null,
   "id": "27701d26",
   "metadata": {},
   "outputs": [],
   "source": []
  },
  {
   "cell_type": "code",
   "execution_count": null,
   "id": "8400c09d",
   "metadata": {},
   "outputs": [],
   "source": []
  },
  {
   "cell_type": "code",
   "execution_count": null,
   "id": "449b48d2",
   "metadata": {},
   "outputs": [],
   "source": []
  },
  {
   "cell_type": "code",
   "execution_count": null,
   "id": "80663587",
   "metadata": {},
   "outputs": [],
   "source": []
  },
  {
   "cell_type": "code",
   "execution_count": null,
   "id": "5511e00c",
   "metadata": {},
   "outputs": [],
   "source": [
    "#Alfredo\n",
    "#years of experience/ years at company and comparison to yearly compensation\n",
    "df_exp = pd.DataFrame(df,columns=[\"yearsofexperience\",\"yearsatcompany\",\"basesalary\",\"stockgrantvalue\",\"bonus\",\"totalyearlycompensation\"])\n",
    "print(df_exp[\"totalyearlycompensation\"].min())\n",
    "print(df_exp[\"totalyearlycompensation\"].max())\n",
    "print(df_exp[\"yearsatcompany\"].min())\n",
    "print(df_exp[\"yearsatcompany\"].max())\n",
    "yearlycomp=df_exp[\"totalyearlycompensation\"]\n",
    "industryyears=df_exp[\"yearsofexperience\"]\n",
    "companyyears=df_exp[\"yearsatcompany\"]\n",
    "df_exp.head()\n",
    "#Find and remove the outliers of both years and pay (Maybe top 100?)\n",
    "#Check if other columns are usable and, if so, remove the zeroes from them"
   ]
  },
  {
   "cell_type": "code",
   "execution_count": null,
   "id": "09cc4962",
   "metadata": {},
   "outputs": [],
   "source": [
    "plt.scatter(industryyears,yearlycomp,marker=\"o\", facecolors=\"blue\", edgecolors=\"black\")\n",
    "(slope, intercept, rvalue, pvalue, stderr) = linregress(industryyears, yearlycomp)\n",
    "regress_values = industryyears * slope + intercept\n",
    "line_eq = \"y = \" + str(round(slope,2)) + \"x + \" + str(round(intercept,2))\n",
    "plt.plot(industryyears,regress_values,\"r-\")\n",
    "plt.annotate(line_eq,(24,4500000),fontsize=15,color=\"red\")\n",
    "plt.xlabel(\"Years Working in the Industry\")\n",
    "plt.ylabel(\"Compensation for Work per Year (Millions)\")\n",
    "plt.title(\"Years In Industry And Compensation\")\n",
    "plt.savefig(\"output_images/Years_In_Industry\");"
   ]
  },
  {
   "cell_type": "code",
   "execution_count": null,
   "id": "23a4e5fe",
   "metadata": {},
   "outputs": [],
   "source": [
    "plt.scatter(companyyears,yearlycomp,marker=\"o\", facecolors=\"blue\", edgecolors=\"black\")\n",
    "(slope, intercept, rvalue, pvalue, stderr) = linregress(companyyears, yearlycomp)\n",
    "regress_values = companyyears * slope + intercept\n",
    "line_eq = \"y = \" + str(round(slope,2)) + \"x + \" + str(round(intercept,2))\n",
    "plt.plot(companyyears,regress_values,\"r-\")\n",
    "plt.annotate(line_eq,(24,4500000),fontsize=15,color=\"red\")\n",
    "plt.xlabel(\"Years Working in the Company\")\n",
    "plt.ylabel(\"Compensation for Work per Year (Millions)\")\n",
    "plt.title(\"Years In Company And Compensation\")\n",
    "plt.savefig(\"output_images/Years_In_Company\");"
   ]
  },
  {
   "cell_type": "code",
   "execution_count": null,
   "id": "c4a84abf",
   "metadata": {},
   "outputs": [],
   "source": []
  },
  {
   "cell_type": "code",
   "execution_count": null,
   "id": "c907f867",
   "metadata": {},
   "outputs": [],
   "source": []
  },
  {
   "cell_type": "code",
   "execution_count": null,
   "id": "4548e048",
   "metadata": {},
   "outputs": [],
   "source": []
  },
  {
   "cell_type": "code",
   "execution_count": null,
   "id": "a1d48845",
   "metadata": {},
   "outputs": [],
   "source": [
    "#Neel\n",
    "#male/ female convert to usable data and compare to yearly compensation\n",
    "df.columns\n",
    "df['gender'].unique()"
   ]
  },
  {
   "cell_type": "code",
   "execution_count": null,
   "id": "e3c21d13",
   "metadata": {},
   "outputs": [],
   "source": [
    "# Filtered DataFrame to only include Gender , Job Title, Base Salary, & Yearly Compensation. (4 Columns)\n",
    "gender_df = df[[\"gender\", \"title\", \"company\", \"basesalary\", \"totalyearlycompensation\"]]\n",
    "#gender_df\n",
    "\n",
    "# Remove NaN values from Gender and remove base salaries that are 0\n",
    "gender_df = gender_df.dropna()\n",
    "filt_gender_df = gender_df.loc[gender_df[\"basesalary\"] > 0, [\"gender\", \"title\", \"company\", \"basesalary\", \"totalyearlycompensation\"]]\n",
    "#filt_gender_df.sort_values(by=['gender'])\n",
    "\n",
    "# Remove 'Title: Senior Software Engineer'\n",
    "filt_gender_df = filt_gender_df.drop(index=11010)\n",
    "filt_gender_df.reset_index(drop  = True)"
   ]
  },
  {
   "cell_type": "code",
   "execution_count": null,
   "id": "8cfb5f17",
   "metadata": {},
   "outputs": [],
   "source": [
    "# Pie Chart of Genders in STEMS\n",
    "gender = ['Male', 'Female', 'Other']\n",
    "count = filt_gender_df['gender'].value_counts()\n",
    "colors = ['coral', 'plum', 'silver']\n",
    "explode = (0, 0.05, 0.1)\n",
    "\n",
    "plt.title(\"Gender in STEM\")\n",
    "plt.pie(count, explode=explode, labels = gender, colors = colors, autopct = \"%1.1f%%\", shadow = True)\n",
    "plt.axis(\"equal\")\n",
    "plt.show\n",
    "plt.savefig(\"output_images/Genders_In_Stem.png\")"
   ]
  },
  {
   "cell_type": "code",
   "execution_count": null,
   "id": "cee7de21",
   "metadata": {},
   "outputs": [],
   "source": [
    "x_axis = gender\n",
    "y_axis = count\n",
    "plt.bar(x_axis, y_axis, color = 'blue')\n",
    "plt.title(\"Gender in STEM\")\n",
    "plt.show\n",
    "plt.savefig(\"output_images/Genders_In_Stem_BarGraph\")"
   ]
  },
  {
   "cell_type": "code",
   "execution_count": null,
   "id": "ee1dbceb",
   "metadata": {},
   "outputs": [],
   "source": [
    "title = df[\"title\"].value_counts()[0:15].reset_index()\n",
    "title.columns = [\"Job\", \"Count\"]\n",
    "title"
   ]
  },
  {
   "cell_type": "code",
   "execution_count": null,
   "id": "ad7e33b5",
   "metadata": {},
   "outputs": [],
   "source": [
    "sns.catplot(x=\"Count\", y=\"Job\", kind=\"bar\", data=title, height=6, aspect=3)\n",
    "plt.grid(True)\n",
    "plt.title(\"Jobs in STEM\")\n",
    "plt.show\n",
    "plt.savefig(\"output_images/Jobs_in_STEM\")"
   ]
  },
  {
   "cell_type": "code",
   "execution_count": null,
   "id": "e9813f48",
   "metadata": {},
   "outputs": [],
   "source": [
    "sns.barplot(x = filt_gender_df.gender, y = filt_gender_df.basesalary);\n",
    "plt.title(\"Gender vs Base Salary\")\n",
    "plt.xlabel(\"Gender\")\n",
    "plt.ylabel(\"Base Salary\")\n",
    "plt.show\n",
    "plt.savefig(\"output_images/Gender_vs_BaseSalary\");\n"
   ]
  },
  {
   "cell_type": "code",
   "execution_count": null,
   "id": "1e9bac3c",
   "metadata": {},
   "outputs": [],
   "source": [
    "sns.barplot(x = filt_gender_df.gender, y = filt_gender_df.totalyearlycompensation);\n",
    "plt.title(\"Gender vs Total Yearly Compensation\")\n",
    "plt.xlabel(\"Gender\")\n",
    "plt.ylabel(\"Total Yearly Compensation\")\n",
    "plt.show\n",
    "plt.savefig(\"output_images/Gender_vs_TotalYearlyCompensation\");"
   ]
  }
 ],
 "metadata": {
  "kernelspec": {
   "display_name": "Python 3 (ipykernel)",
   "language": "python",
   "name": "python3"
  },
  "language_info": {
   "codemirror_mode": {
    "name": "ipython",
    "version": 3
   },
   "file_extension": ".py",
   "mimetype": "text/x-python",
   "name": "python",
   "nbconvert_exporter": "python",
   "pygments_lexer": "ipython3",
   "version": "3.8.12"
  }
 },
 "nbformat": 4,
 "nbformat_minor": 5
}
