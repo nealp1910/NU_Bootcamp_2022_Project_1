{
 "cells": [
  {
   "cell_type": "code",
   "execution_count": null,
   "id": "80c86e32",
   "metadata": {},
   "outputs": [],
   "source": [
    "# Importing Libraries \n",
    "#%matplotlib notebook\n",
    "import pandas as pd\n",
    "import numpy as np\n",
    "import matplotlib.pyplot as plt\n",
    "import scipy.stats as st\n",
    "import requests \n",
    "import time \n",
    "from scipy.stats import linregress\n",
    "import seaborn as sns\n",
    "\n",
    "# Reading CSV File\n",
    "df=pd.read_csv(\"Levels_Fyi_Salary_Data.csv\", delimiter=\",\")\n",
    "df.info()\n",
    "df.head(60)"
   ]
  },
  {
   "cell_type": "code",
   "execution_count": null,
   "id": "90958421",
   "metadata": {},
   "outputs": [],
   "source": [
    "#Connor\n",
    "\n",
    "#Creating a new data frame that removes counts that had \"0\" for base salary\n",
    "#Other focuses may want to analyze this DF further to see if other results should be removed that have 0, but for this portion\n",
    "#of the study, we just want to make sure our data is reflecting active salaries to find the top hiring companies and more\n",
    "df_cleaned = df[df['basesalary'] != 0]\n",
    "df_cleaned.head(10)"
   ]
  },
  {
   "cell_type": "code",
   "execution_count": null,
   "id": "2b17237b",
   "metadata": {},
   "outputs": [],
   "source": [
    "#Find the top 10 hiring companies by counting the amount of repeating companies that show up in the data (essentially a for loop)\n",
    "#Throw this data into a new cleaned DF to work with\n",
    "top_companies = df_cleaned[\"company\"].value_counts()[0:10].reset_index()\n",
    "top_companies.columns = [\"company\", \"Count\"]\n",
    "top_companies"
   ]
  },
  {
   "cell_type": "code",
   "execution_count": null,
   "id": "0a59e6e2",
   "metadata": {},
   "outputs": [],
   "source": [
    "#Using Seaborn as a means of showing this data in a clean and easy bar graph\n",
    "import seaborn as sns\n",
    "plt.figure(figsize=(10,10))\n",
    "#adjusting the company name displays rotations\n",
    "plt.xticks(rotation=60)\n",
    "#setting the x label (company name)\n",
    "plt.xlabel(\"Company Name\")\n",
    "#setting the title\n",
    "plt.title(\"Top 10 Hiring Companies\")\n",
    "#plotting the barplot within seaborn sns using our x and y labels set, along with the top companies data frame from above\n",
    "sns.barplot(x='company',y='Count',data=top_companies)\n",
    "plt.savefig(\"output_images/top ten hiring companies\")\n",
    "plt.show()"
   ]
  },
  {
   "cell_type": "code",
   "execution_count": null,
   "id": "cd4cf14a",
   "metadata": {},
   "outputs": [],
   "source": [
    "#Find the top 10 job roles hired using the same approach as finding the top 10 companies\n",
    "#Throwing into a data frame for a clear, easy visual to work off of\n",
    "top_jobs = df_cleaned['title'].value_counts()[0:10].reset_index()\n",
    "top_jobs.columns = [\"Job\", \"Count\"]\n",
    "top_jobs"
   ]
  },
  {
   "cell_type": "code",
   "execution_count": null,
   "id": "b5aff4b4",
   "metadata": {},
   "outputs": [],
   "source": [
    "#Once again using Seaborn as a means of showing this data in a clean bar graph\n",
    "plt.figure(figsize=(8,12))\n",
    "plt.xticks(rotation=60)\n",
    "plt.xlabel(\"Jobs\")\n",
    "plt.title(\"Top 10 Job Roles\")\n",
    "sns.barplot(x='Job',y='Count',data=top_jobs)\n",
    "plt.savefig(\"output_images/top ten job roles\")\n",
    "plt.show()"
   ]
  },
  {
   "cell_type": "code",
   "execution_count": null,
   "id": "b252055e",
   "metadata": {},
   "outputs": [],
   "source": [
    "#Find the top 10 hiring locations \n",
    "#Throwing into a data frame for a clear, easy visual to work off of\n",
    "top_locations = df_cleaned['location'].value_counts()[0:10].reset_index()\n",
    "top_locations.columns = [\"Location\", \"Count\"]\n",
    "top_locations"
   ]
  },
  {
   "cell_type": "code",
   "execution_count": null,
   "id": "347b37c2",
   "metadata": {},
   "outputs": [],
   "source": [
    "#Using Seaborn once more as a means of showing this data data in a clean bar graph\n",
    "import seaborn as sns\n",
    "import seaborn as sns\n",
    "plt.figure(figsize=(8,12))\n",
    "plt.xticks(rotation=75)\n",
    "plt.xlabel(\"Locations\")\n",
    "plt.title(\"Top 10 Job Locations\")\n",
    "sns.barplot(x='Location',y='Count',data=top_locations)\n",
    "plt.savefig(\"output_images/top ten job locations\")\n",
    "plt.show()"
   ]
  },
  {
   "cell_type": "code",
   "execution_count": null,
   "id": "017632d2",
   "metadata": {
    "scrolled": true
   },
   "outputs": [],
   "source": [
    "data_sci = df[df.title.str.contains('Data Scientist')]\n",
    "biz_analyst = df[df.title.str.contains('Business Analyst')]\n",
    "data_sci_biz_analyst = pd.concat([data_sci, biz_analyst], axis=0)\n",
    "data_sci_biz_analyst.head()"
   ]
  },
  {
   "cell_type": "code",
   "execution_count": null,
   "id": "70bf7960",
   "metadata": {},
   "outputs": [],
   "source": [
    "#Find the amount of business analysts and data scientists titles added year over year\n",
    "data_sci_biz_analyst['timestamp'] = pd.to_datetime(data_sci_biz_analyst.timestamp)\n",
    "year = data_sci_biz_analyst.timestamp.dt.year\n",
    "year_new_counts = year.value_counts()\n",
    "year_new_counts\n",
    "#The data is showing us that there is much growing demands for both titles from 2018 to 2021"
   ]
  },
  {
   "cell_type": "code",
   "execution_count": null,
   "id": "1d088183",
   "metadata": {},
   "outputs": [],
   "source": [
    "# ### Yousuf \n",
    "\n",
    "# TODO 1: Show the Distribution of jobs on map\n",
    "\n",
    "\n",
    "target_city = top_locations[\"Location\"].values\n",
    "\n",
    "base_url = \"https://maps.googleapis.com/maps/api/geocode/json\"\n",
    "lats = []\n",
    "lngs = []\n",
    "\n",
    "for city in target_city :\n",
    "    params = {\"address\": city, \"key\": \"\"}\n",
    "    response = requests.get(base_url, params=params)\n",
    "    info_geo = response.json()\n",
    "    # Extract lat/lng And add to list\n",
    "    lat = info_geo[\"results\"][0][\"geometry\"][\"location\"][\"lat\"]\n",
    "    lats.append(lat)\n",
    "    lng = info_geo[\"results\"][0][\"geometry\"][\"location\"][\"lng\"]\n",
    "    lngs.append(lng)\n",
    "    \n",
    "\n",
    "# Add  the geocoordinates (latitude and longitude) to data frame\n",
    "top_locations[\"Lat\"] = lats\n",
    "top_locations[\"Lng\"] = lngs\n",
    "top_locations"
   ]
  },
  {
   "cell_type": "code",
   "execution_count": null,
   "id": "d5702229",
   "metadata": {},
   "outputs": [],
   "source": [
    "\n",
    "\n",
    "weights = top_locations[\"Count\"]\n",
    "\n",
    "# Store 'Latitude' and 'Longitude' into  locations. \n",
    "locations = top_locations[[\"Lat\", \"Lng\"]]\n",
    "locations\n",
    "\n",
    "\n",
    "# Configure gmaps\n",
    "gmaps.configure(api_key=\"\")\n",
    "\n",
    "fig = gmaps.figure(center = [40,-100] ,zoom_level = 3.8)\n",
    "\n",
    "\n",
    "# Create and add heat layer \n",
    "heat_layer = gmaps.heatmap_layer(locations, weights=weights,\n",
    "                               dissipating=False, max_intensity=100,\n",
    "                               point_radius = 2)\n",
    "fig.add_layer(heat_layer)\n",
    "#Display figure\n",
    "\n",
    "fig"
   ]
  },
  {
   "cell_type": "code",
   "execution_count": null,
   "id": "f13924f3",
   "metadata": {},
   "outputs": [],
   "source": [
    "# TODO 2 :Distribution of Race\n",
    "# As Bar Chart\n",
    "\n",
    "plt.figure(figsize=(12,8))\n",
    "sns.countplot(data = df_cleaned, x = 'Race',edgecolor=\"black\")\n",
    "plt.title('Distribution of Race',fontsize = 20, bbox={'facecolor':'0.8', 'pad':5})\n",
    "plt.savefig(\"output_images/race_as_factor_bars\");\n",
    "plt.show()"
   ]
  },
  {
   "cell_type": "code",
   "execution_count": null,
   "id": "f38b3198",
   "metadata": {},
   "outputs": [],
   "source": [
    "# As Pie Chart\n",
    "race_df=pd.DataFrame(df_cleaned['Race'],columns=['Race','Count'])\n",
    "race_df['Count']=1\n",
    "race_df=race_df.groupby('Race').sum()\n",
    "race_df.reset_index(inplace=True)\n",
    "race_df.sort_values('Count',ascending=False,inplace=True)\n",
    "race_df"
   ]
  },
  {
   "cell_type": "code",
   "execution_count": null,
   "id": "b7a8f1f0",
   "metadata": {},
   "outputs": [],
   "source": [
    "plt.figure(figsize=(10,8))\n",
    "values = race_df[\"Count\"]\n",
    "labels = race_df[\"Race\"]\n",
    "colors = sns.color_palette('tab10')\n",
    "explode = (0, 0, 0.1, 0,0.1)\n",
    "plt.pie(values, labels = labels, colors = colors,explode=explode,\n",
    "        autopct='%.0f%%',shadow=True,radius=1,textprops={'fontsize': 14})\n",
    "plt.title(\"Distribution of Race\",loc=\"center\",y=1,x=0,fontsize = 24,\n",
    "          bbox={'facecolor':'0.8', 'pad':5})\n",
    "plt.savefig(\"output_images/race_as_factor_Pie\")\n",
    "plt.show()"
   ]
  },
  {
   "cell_type": "code",
   "execution_count": null,
   "id": "9569b5b8",
   "metadata": {},
   "outputs": [],
   "source": [
    "race_df=df_cleaned.groupby(\"Race\").sum()\n",
    "\n",
    "race_df\n",
    "race_df.drop(columns=['totalyearlycompensation',\"yearsofexperience\",\"yearsatcompany\",\n",
    "            \"basesalary\",\"stockgrantvalue\",\"bonus\",\"cityid\",\"dmaid\",\"rowNumber\",\"Masters_Degree\",\n",
    "            \"Bachelors_Degree\",\"Doctorate_Degree\",\"Highschool\",\"Some_College\"])\n"
   ]
  },
  {
   "cell_type": "code",
   "execution_count": null,
   "id": "70b1454b",
   "metadata": {},
   "outputs": [],
   "source": [
    "labels=race_df.index\n",
    "\n",
    "labels=[\"Asian\",\"White\",\"Two Or More\",\"Black\",\"Hispanic\"]\n",
    "\n",
    "values=race_df[\"Race_Asian\"]"
   ]
  },
  {
   "cell_type": "code",
   "execution_count": null,
   "id": "6c5718ed",
   "metadata": {},
   "outputs": [],
   "source": [
    "plt.pie(data = df_cleaned,labels=labels,  x=df_cleaned[\"Race\"].value_counts(), autopct='%.0f%%')\n",
    "\n",
    "plt.show()"
   ]
  },
  {
   "cell_type": "code",
   "execution_count": null,
   "id": "c7e33dab",
   "metadata": {},
   "outputs": [],
   "source": [
    "# TODO 3 :Distribution of Education\n",
    "# As Bar Chart\n",
    "\n",
    "education_df=pd.DataFrame(df_cleaned['Education'],columns=['Education','Count'])\n",
    "education_df['Count']=1\n",
    "education_df=education_df.groupby('Education').sum()\n",
    "\n",
    "education_df\n",
    "education_df.reset_index(inplace=True)\n",
    "education_df.sort_values('Count',ascending=False,inplace=True)\n",
    "\n",
    "education_df"
   ]
  },
  {
   "cell_type": "code",
   "execution_count": null,
   "id": "27701d26",
   "metadata": {},
   "outputs": [],
   "source": [
    "plt.figure(figsize=(16,10))\n",
    "sns.catplot(x='Education',y='Count',data=education_df,kind='bar',aspect=2,height=6,\n",
    "            edgecolor=\"black\",palette=\"coolwarm\")\n",
    "plt.xticks(rotation=0)\n",
    "plt.xlabel('Education',size=15)\n",
    "plt.ylabel('Count',size=15)\n",
    "plt.title('Distribution of Education',size=18, bbox={'facecolor':'0.8', 'pad':5})\n",
    "plt.tight_layout()\n",
    "plt.savefig(\"output_images/distribution_of_education_bar\")\n",
    "plt.show()\n"
   ]
  },
  {
   "cell_type": "code",
   "execution_count": null,
   "id": "04ef0852",
   "metadata": {},
   "outputs": [],
   "source": [
    "# Distribution of Education\n",
    "plt.figure(figsize=(10,10))\n",
    "values = education_df['Count']\n",
    "labels = education_df['Education']\n",
    "colors = sns.color_palette('tab10')\n",
    "explode = (0, 0, 0.2, 0.4,0.6)\n",
    "plt.pie(values, labels = labels, colors = colors,explode=explode,\n",
    "        autopct='%.0f%%',shadow=True,radius=1,textprops={'fontsize': 14})\n",
    "plt.title(\"Distribution of Education\",bbox={'facecolor':'0.8', 'pad':5,},loc=\"right\",y=1,x=1,\n",
    "          fontdict={'fontsize': 18})\n",
    "plt.tight_layout()\n",
    "plt.savefig(\"output_images/distribution_of_education_pie\")\n",
    "\n",
    "plt.show()"
   ]
  },
  {
   "cell_type": "code",
   "execution_count": null,
   "id": "8400c09d",
   "metadata": {},
   "outputs": [],
   "source": [
    "# TODO 4: Base salary Vs Level Of Education\n",
    "\n",
    "\n",
    "education_df_mean = df_cleaned[\"basesalary\"].groupby(df_cleaned[\"Education\"]).aggregate(\"mean\")\n",
    "education_df_std = df_cleaned[\"basesalary\"].groupby(df_cleaned[\"Education\"]).aggregate(\"std\")\n",
    "colors = sns.color_palette('tab10')\n",
    "education_df_mean.plot(kind=\"bar\",figsize=(16,10),yerr = education_df_std )\n",
    "plt.xlabel(\"Level Of Education\",size=15)\n",
    "plt.ylabel(\"Base Salary ($)\",size=15)\n",
    "plt.title(\"Base Salary Based on Degrees\",size=18,bbox={'facecolor':'0.8', 'pad':5})\n",
    "plt.xticks(rotation=0)\n",
    "plt.savefig(\"output_images/Base salary_Based_on_degrees_bars\")\n",
    "\n",
    "plt.show()\n"
   ]
  },
  {
   "cell_type": "code",
   "execution_count": null,
   "id": "80663587",
   "metadata": {},
   "outputs": [],
   "source": [
    "\n",
    "sns.set(style=\"darkgrid\")\n",
    "plt.figure(figsize=(12,8))\n",
    "sns.kdeplot(df_cleaned[df_cleaned[\"Bachelors_Degree\"]==1][\"basesalary\"], color=\"crimson\", label=\"Bachelor's Degree\", multiple=\"stack\")\n",
    "sns.kdeplot(df_cleaned[df_cleaned[\"Highschool\"]==1][\"basesalary\"], color=\"lightgreen\", label=\"Highschool Degree\", multiple=\"stack\")\n",
    "sns.kdeplot(df_cleaned[df_cleaned[\"Masters_Degree\"]==1][\"basesalary\"], color=\"sandybrown\", label=\"Master's Degree\", multiple=\"stack\")\n",
    "sns.kdeplot(df_cleaned[df_cleaned[\"Doctorate_Degree\"]==1][\"basesalary\"], color=\"darkturquoise\", label=\"PhD Degree\", multiple=\"stack\")\n",
    "plt.title(\"Base Salary Based on Degrees\", size=18,bbox={'facecolor':'0.8', 'pad':5})\n",
    "plt.xlabel(\"Base Salary ($)\", size=15)\n",
    "plt.ylabel(\"Density\", size=15)\n",
    "plt.legend()\n",
    "plt.savefig(\"output_images/basesalary_Based_on_degrees\")\n",
    "plt.show()"
   ]
  },
  {
   "cell_type": "code",
   "execution_count": null,
   "id": "5511e00c",
   "metadata": {},
   "outputs": [],
   "source": [
    "#Alfredo\n",
    "#years of experience/ years at company and comparison to yearly compensation\n",
    "df_exp = pd.DataFrame(df,columns=[\"yearsofexperience\",\"yearsatcompany\",\"basesalary\",\"stockgrantvalue\",\"bonus\",\"totalyearlycompensation\"])\n",
    "print(df_exp[\"totalyearlycompensation\"].min())\n",
    "print(df_exp[\"totalyearlycompensation\"].max())\n",
    "print(df_exp[\"yearsatcompany\"].min())\n",
    "print(df_exp[\"yearsatcompany\"].max())\n",
    "yearlycomp=df_exp[\"totalyearlycompensation\"]\n",
    "industryyears=df_exp[\"yearsofexperience\"]\n",
    "companyyears=df_exp[\"yearsatcompany\"]\n",
    "df_exp.head()\n",
    "#Find and remove the outliers of both years and pay (Maybe top 100?)\n",
    "#Check if other columns are usable and, if so, remove the zeroes from them"
   ]
  },
  {
   "cell_type": "code",
   "execution_count": null,
   "id": "09cc4962",
   "metadata": {},
   "outputs": [],
   "source": [
    "plt.scatter(industryyears,yearlycomp,marker=\"o\", facecolors=\"blue\", edgecolors=\"black\")\n",
    "(slope, intercept, rvalue, pvalue, stderr) = linregress(industryyears, yearlycomp)\n",
    "regress_values = industryyears * slope + intercept\n",
    "line_eq = \"y = \" + str(round(slope,2)) + \"x + \" + str(round(intercept,2))\n",
    "plt.plot(industryyears,regress_values,\"r-\")\n",
    "plt.annotate(line_eq,(24,4500000),fontsize=15,color=\"red\")\n",
    "plt.xlabel(\"Years Working in the Industry\")\n",
    "plt.ylabel(\"Compensation for Work per Year (Millions)\")\n",
    "plt.title(\"Years In Industry And Compensation\")\n",
    "plt.savefig(\"output_images/Years_In_Industry\");"
   ]
  },
  {
   "cell_type": "code",
   "execution_count": null,
   "id": "23a4e5fe",
   "metadata": {},
   "outputs": [],
   "source": [
    "plt.scatter(companyyears,yearlycomp,marker=\"o\", facecolors=\"blue\", edgecolors=\"black\")\n",
    "(slope, intercept, rvalue, pvalue, stderr) = linregress(companyyears, yearlycomp)\n",
    "regress_values = companyyears * slope + intercept\n",
    "line_eq = \"y = \" + str(round(slope,2)) + \"x + \" + str(round(intercept,2))\n",
    "plt.plot(companyyears,regress_values,\"r-\")\n",
    "plt.annotate(line_eq,(24,4500000),fontsize=15,color=\"red\")\n",
    "plt.xlabel(\"Years Working in the Company\")\n",
    "plt.ylabel(\"Compensation for Work per Year (Millions)\")\n",
    "plt.title(\"Years In Company And Compensation\")\n",
    "plt.savefig(\"output_images/Years_In_Company\");"
   ]
  },
  {
   "cell_type": "code",
   "execution_count": null,
   "id": "a1d48845",
   "metadata": {},
   "outputs": [],
   "source": [
    "#Neel\n",
    "#male/ female convert to usable data and compare to yearly compensation\n",
    "df.columns\n",
    "df['gender'].unique()"
   ]
  },
  {
   "cell_type": "code",
   "execution_count": null,
   "id": "e3c21d13",
   "metadata": {},
   "outputs": [],
   "source": [
    "# Filtered DataFrame to only include Gender , Job Title, Base Salary, & Yearly Compensation. (4 Columns)\n",
    "gender_df = df[[\"gender\", \"title\", \"company\", \"basesalary\", \"totalyearlycompensation\"]]\n",
    "#gender_df\n",
    "\n",
    "# Remove NaN values from Gender and remove base salaries that are 0\n",
    "gender_df = gender_df.dropna()\n",
    "filt_gender_df = gender_df.loc[gender_df[\"basesalary\"] > 0, [\"gender\", \"title\", \"company\", \"basesalary\", \"totalyearlycompensation\"]]\n",
    "#filt_gender_df.sort_values(by=['gender'])\n",
    "\n",
    "# Remove 'Title: Senior Software Engineer'\n",
    "filt_gender_df = filt_gender_df.drop(index=11010)\n",
    "filt_gender_df.reset_index(drop  = True)"
   ]
  },
  {
   "cell_type": "code",
   "execution_count": null,
   "id": "8cfb5f17",
   "metadata": {},
   "outputs": [],
   "source": [
    "# Pie Chart of Genders in STEMS\n",
    "gender = ['Male', 'Female', 'Other']\n",
    "count = filt_gender_df['gender'].value_counts()\n",
    "colors = ['coral', 'plum', 'silver']\n",
    "explode = (0, 0.05, 0.1)\n",
    "\n",
    "plt.title(\"Gender in STEM\")\n",
    "plt.pie(count, explode=explode, labels = gender, colors = colors, autopct = \"%1.1f%%\", shadow = True)\n",
    "plt.axis(\"equal\")\n",
    "plt.show\n",
    "plt.savefig(\"output_images/Genders_In_Stem.png\")"
   ]
  },
  {
   "cell_type": "code",
   "execution_count": null,
   "id": "cee7de21",
   "metadata": {},
   "outputs": [],
   "source": [
    "x_axis = gender\n",
    "y_axis = count\n",
    "plt.bar(x_axis, y_axis, color = 'blue')\n",
    "plt.title(\"Gender in STEM\")\n",
    "plt.show\n",
    "plt.savefig(\"output_images/Genders_In_Stem_BarGraph\")"
   ]
  },
  {
   "cell_type": "code",
   "execution_count": null,
   "id": "ee1dbceb",
   "metadata": {},
   "outputs": [],
   "source": [
    "title = df[\"title\"].value_counts()[0:15].reset_index()\n",
    "title.columns = [\"Job\", \"Count\"]\n",
    "title"
   ]
  },
  {
   "cell_type": "code",
   "execution_count": null,
   "id": "ad7e33b5",
   "metadata": {},
   "outputs": [],
   "source": [
    "sns.catplot(x=\"Count\", y=\"Job\", kind=\"bar\", data=title, height=6, aspect=3)\n",
    "plt.grid(True)\n",
    "plt.title(\"Jobs in STEM\")\n",
    "plt.show\n",
    "plt.savefig(\"output_images/Jobs_in_STEM\")"
   ]
  },
  {
   "cell_type": "code",
   "execution_count": null,
   "id": "e9813f48",
   "metadata": {},
   "outputs": [],
   "source": [
    "sns.barplot(x = filt_gender_df.gender, y = filt_gender_df.basesalary);\n",
    "plt.title(\"Gender vs Base Salary\")\n",
    "plt.xlabel(\"Gender\")\n",
    "plt.ylabel(\"Base Salary\")\n",
    "plt.show\n",
    "plt.savefig(\"output_images/Gender_vs_BaseSalary\");"
   ]
  },
  {
   "cell_type": "code",
   "execution_count": null,
   "id": "1e9bac3c",
   "metadata": {},
   "outputs": [],
   "source": [
    "sns.barplot(x = filt_gender_df.gender, y = filt_gender_df.totalyearlycompensation);\n",
    "plt.title(\"Gender vs Total Yearly Compensation\")\n",
    "plt.xlabel(\"Gender\")\n",
    "plt.ylabel(\"Total Yearly Compensation\")\n",
    "plt.show\n",
    "plt.savefig(\"output_images/Gender_vs_TotalYearlyCompensation\");"
   ]
  }
 ],
 "metadata": {
  "kernelspec": {
   "display_name": "Python 3 (ipykernel)",
   "language": "python",
   "name": "python3"
  },
  "language_info": {
   "codemirror_mode": {
    "name": "ipython",
    "version": 3
   },
   "file_extension": ".py",
   "mimetype": "text/x-python",
   "name": "python",
   "nbconvert_exporter": "python",
   "pygments_lexer": "ipython3",
   "version": "3.9.7"
  }
 },
 "nbformat": 4,
 "nbformat_minor": 5
}
